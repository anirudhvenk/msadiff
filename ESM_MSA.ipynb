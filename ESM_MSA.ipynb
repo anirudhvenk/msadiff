{
 "cells": [
  {
   "cell_type": "code",
   "execution_count": 1,
   "id": "7b30b5a3-cdfc-4bd0-aadd-58987bc80cea",
   "metadata": {},
   "outputs": [],
   "source": [
    "import torch\n",
    "import esm\n",
    "from Bio import SeqIO\n",
    "from typing import List, Tuple, Optional, Dict, NamedTuple, Union, Callable\n",
    "import string\n",
    "import numpy as np\n",
    "from scipy.spatial.distance import squareform, pdist, cdist"
   ]
  },
  {
   "cell_type": "code",
   "execution_count": 2,
   "id": "658d9ac4-d320-4525-b67a-9a8f31a81ad8",
   "metadata": {},
   "outputs": [],
   "source": [
    "# This is an efficient way to delete lowercase characters and insertion characters from a string\n",
    "deletekeys = dict.fromkeys(string.ascii_lowercase)\n",
    "deletekeys[\".\"] = None\n",
    "deletekeys[\"*\"] = None\n",
    "translation = str.maketrans(deletekeys)\n",
    "\n",
    "def read_sequence(filename: str) -> Tuple[str, str]:\n",
    "    \"\"\" Reads the first (reference) sequences from a fasta or MSA file.\"\"\"\n",
    "    record = next(SeqIO.parse(filename, \"fasta\"))\n",
    "    return record.description, str(record.seq)\n",
    "\n",
    "def remove_insertions(sequence: str) -> str:\n",
    "    \"\"\" Removes any insertions into the sequence. Needed to load aligned sequences in an MSA. \"\"\"\n",
    "    return sequence.translate(translation)\n",
    "    \n",
    "def read_msa(filename: str) -> List[Tuple[str, str]]:\n",
    "    \"\"\" Reads the sequences from an MSA file, automatically removes insertions.\"\"\"\n",
    "    return [(record.description, remove_insertions(str(record.seq))) for record in SeqIO.parse(filename, \"fasta\")]"
   ]
  },
  {
   "cell_type": "code",
   "execution_count": 3,
   "id": "91e50b61-4eac-47c7-86c4-e573b467de4c",
   "metadata": {},
   "outputs": [],
   "source": [
    "msas = {\n",
    "    \"1a3a\": read_msa(\"test_msa.a3m\")\n",
    "}"
   ]
  },
  {
   "cell_type": "code",
   "execution_count": 4,
   "id": "d054d363-eb46-4502-82e1-9444343879d8",
   "metadata": {},
   "outputs": [],
   "source": [
    "# Select sequences from the MSA to maximize the hamming distance\n",
    "# Alternatively, can use hhfilter \n",
    "def greedy_select(msa: List[Tuple[str, str]], num_seqs: int, mode: str = \"max\") -> List[Tuple[str, str]]:\n",
    "    assert mode in (\"max\", \"min\")\n",
    "    if len(msa) <= num_seqs:\n",
    "        return msa\n",
    "    \n",
    "    array = np.array([list(seq) for _, seq in msa], dtype=np.bytes_).view(np.uint8)\n",
    "\n",
    "    optfunc = np.argmax if mode == \"max\" else np.argmin\n",
    "    all_indices = np.arange(len(msa))\n",
    "    indices = [0]\n",
    "    pairwise_distances = np.zeros((0, len(msa)))\n",
    "    for _ in range(num_seqs - 1):\n",
    "        dist = cdist(array[indices[-1:]], array, \"hamming\")\n",
    "        pairwise_distances = np.concatenate([pairwise_distances, dist])\n",
    "        shifted_distance = np.delete(pairwise_distances, indices, axis=1).mean(0)\n",
    "        shifted_index = optfunc(shifted_distance)\n",
    "        index = np.delete(all_indices, indices)[shifted_index]\n",
    "        indices.append(index)\n",
    "    indices = sorted(indices)\n",
    "    return [msa[idx] for idx in indices]"
   ]
  },
  {
   "cell_type": "code",
   "execution_count": 7,
   "id": "834b2399-2711-4831-86c0-7ec20cbfaad6",
   "metadata": {},
   "outputs": [],
   "source": [
    "msa_transformer, msa_transformer_alphabet = esm.pretrained.esm_msa1b_t12_100M_UR50S()\n",
    "msa_transformer = msa_transformer.eval()\n",
    "msa_transformer_batch_converter = msa_transformer_alphabet.get_batch_converter()"
   ]
  },
  {
   "cell_type": "code",
   "execution_count": 17,
   "id": "6b869fb8-f031-4545-8345-68eb5abfc695",
   "metadata": {},
   "outputs": [
    {
     "name": "stdout",
     "output_type": "stream",
     "text": [
      "torch.Size([1, 128, 146, 33])\n"
     ]
    }
   ],
   "source": [
    "msa_transformer_predictions = {}\n",
    "msa_transformer_results = []\n",
    "for name, inputs in msas.items():\n",
    "    inputs = greedy_select(inputs, num_seqs=128) # can change this to pass more/fewer sequences\n",
    "    msa_transformer_batch_labels, msa_transformer_batch_strs, msa_transformer_batch_tokens = msa_transformer_batch_converter([inputs])\n",
    "    msa_transformer_batch_tokens = msa_transformer_batch_tokens.to(next(msa_transformer.parameters()).device)\n",
    "    print(msa_transformer(msa_transformer_batch_tokens)[\"logits\"].shape)\n",
    "    # msa_transformer_predictions[name] = msa_transformer.predict_contacts(msa_transformer_batch_tokens)[0].cpu()\n",
    "    # metrics = {\"id\": name, \"model\": \"MSA Transformer (Unsupervised)\"}\n",
    "    # metrics.update(evaluate_prediction(msa_transformer_predictions[name], contacts[name]))\n",
    "    # msa_transformer_results.append(metrics)\n",
    "# msa_transformer_results = pd.DataFrame(msa_transformer_results)\n",
    "# display(msa_transformer_results)"
   ]
  },
  {
   "cell_type": "code",
   "execution_count": 22,
   "id": "4fd3fd6e-2e0c-47f5-8755-d66eb4bdc3a9",
   "metadata": {},
   "outputs": [
    {
     "data": {
      "text/plain": [
       "tensor([[[[-12.9309, -23.8732, -24.2215,  ...,  -1.9398, -13.9956, -14.7635],\n",
       "          [-13.9280, -12.3575, -12.6524,  ...,  -1.0194, -13.5932, -13.7057],\n",
       "          [-15.9826, -20.6273, -20.8905,  ...,  -8.1170, -15.6904, -15.7424],\n",
       "          ...,\n",
       "          [-15.7191, -18.0337, -18.1623,  ...,  -6.7042, -15.4590, -15.6125],\n",
       "          [-16.9020, -19.7343, -19.7679,  ...,  -7.2387, -16.2089, -16.1908],\n",
       "          [-15.4685, -15.6624, -15.8068,  ...,  -4.8952, -14.3706, -14.6087]],\n",
       "\n",
       "         [[-12.9736, -21.9237, -21.9615,  ...,   3.6814, -15.1494, -16.3454],\n",
       "          [-15.6551, -17.5572, -17.5652,  ...,  -0.5021, -15.4875, -15.4964],\n",
       "          [-15.6690, -20.1051, -20.2912,  ...,  -2.8869, -14.9445, -14.9622],\n",
       "          ...,\n",
       "          [-15.1065, -17.7589, -17.7223,  ...,  -2.5858, -15.5110, -15.8153],\n",
       "          [-15.7245, -16.8178, -16.7517,  ...,   1.2008, -15.7335, -15.7986],\n",
       "          [-14.2028, -15.3096, -15.2191,  ...,  10.8708, -12.2719, -11.9081]],\n",
       "\n",
       "         [[-13.3200, -20.9067, -20.9797,  ...,   5.0743, -14.6562, -15.9250],\n",
       "          [-15.4070, -16.2813, -16.5155,  ...,   1.1253, -15.1569, -15.0623],\n",
       "          [-15.1844, -18.6576, -18.7607,  ...,  -2.3229, -14.5841, -14.7937],\n",
       "          ...,\n",
       "          [-15.1265, -17.4600, -17.5206,  ...,  -1.6757, -15.3918, -15.8286],\n",
       "          [-15.6432, -17.2286, -17.2296,  ...,   3.5043, -15.3465, -15.2402],\n",
       "          [-14.1465, -14.7181, -14.6969,  ...,  10.8714, -12.1766, -11.8361]],\n",
       "\n",
       "         ...,\n",
       "\n",
       "         [[-12.9620, -24.4014, -24.4322,  ...,   4.6247, -15.7868, -17.2747],\n",
       "          [-13.5627, -15.0405, -14.9506,  ...,  13.6097, -11.6687, -11.1879],\n",
       "          [-15.7302, -18.8419, -18.8438,  ...,  -1.1517, -16.7856, -17.6136],\n",
       "          ...,\n",
       "          [-16.1715, -19.8210, -19.8809,  ...,  -3.2468, -16.2090, -16.4324],\n",
       "          [-15.5002, -17.0967, -17.1119,  ...,  -0.9816, -16.3404, -17.0543],\n",
       "          [-13.3953, -14.2002, -14.1184,  ...,  13.7123, -11.3434, -10.9989]],\n",
       "\n",
       "         [[-12.7810, -23.9783, -24.0979,  ...,   4.5258, -16.0092, -17.3254],\n",
       "          [-13.1824, -13.2740, -13.2050,  ...,  14.1883, -11.3085, -10.7183],\n",
       "          [-16.1901, -18.7687, -18.8668,  ...,  -1.5521, -15.6826, -15.6515],\n",
       "          ...,\n",
       "          [-16.2560, -19.8977, -19.9783,  ...,  -2.7712, -16.2171, -16.3239],\n",
       "          [-15.2757, -17.2616, -17.2581,  ...,  -0.5015, -16.2579, -16.8043],\n",
       "          [-13.2723, -13.9975, -14.0288,  ...,  14.4242, -11.2546, -10.6576]],\n",
       "\n",
       "         [[-12.8629, -24.6421, -24.7691,  ...,   4.4789, -15.6214, -17.0419],\n",
       "          [-13.6140, -14.9645, -14.9305,  ...,  13.4954, -11.4613, -10.9737],\n",
       "          [-15.7707, -18.9408, -19.0403,  ...,  -1.3997, -16.6714, -17.4727],\n",
       "          ...,\n",
       "          [-16.1445, -19.5197, -19.6733,  ...,  -2.9814, -16.4565, -16.6599],\n",
       "          [-16.5549, -17.5987, -17.6271,  ...,  -0.2603, -15.7337, -15.9532],\n",
       "          [-13.8911, -15.1568, -15.0941,  ...,  12.1593, -12.1729, -12.0315]]]],\n",
       "       grad_fn=<AddBackward0>)"
      ]
     },
     "execution_count": 22,
     "metadata": {},
     "output_type": "execute_result"
    }
   ],
   "source": [
    "emb = msa_transformer(msa_transformer_batch_tokens)[\"logits\"]\n",
    "emb"
   ]
  },
  {
   "cell_type": "code",
   "execution_count": 23,
   "id": "0970a569-4a47-4e44-abbc-06e4748c29d2",
   "metadata": {},
   "outputs": [
    {
     "data": {
      "text/plain": [
       "tensor([[[[-12.9309, -23.8732, -24.2215,  ...,  -1.9398, -13.9956, -14.7635],\n",
       "          [-13.9280, -12.3575, -12.6524,  ...,  -1.0194, -13.5932, -13.7057],\n",
       "          [-15.9826, -20.6273, -20.8905,  ...,  -8.1170, -15.6904, -15.7424],\n",
       "          ...,\n",
       "          [-15.7191, -18.0337, -18.1623,  ...,  -6.7042, -15.4590, -15.6125],\n",
       "          [-16.9020, -19.7343, -19.7679,  ...,  -7.2387, -16.2089, -16.1908],\n",
       "          [-15.4685, -15.6624, -15.8068,  ...,  -4.8952, -14.3706, -14.6087]],\n",
       "\n",
       "         [[-12.9736, -21.9237, -21.9615,  ...,   3.6814, -15.1494, -16.3454],\n",
       "          [-15.6551, -17.5572, -17.5652,  ...,  -0.5021, -15.4875, -15.4964],\n",
       "          [-15.6690, -20.1051, -20.2912,  ...,  -2.8869, -14.9445, -14.9622],\n",
       "          ...,\n",
       "          [-15.1065, -17.7589, -17.7223,  ...,  -2.5858, -15.5110, -15.8153],\n",
       "          [-15.7245, -16.8178, -16.7517,  ...,   1.2008, -15.7335, -15.7986],\n",
       "          [-14.2028, -15.3096, -15.2191,  ...,  10.8708, -12.2719, -11.9081]],\n",
       "\n",
       "         [[-13.3200, -20.9067, -20.9797,  ...,   5.0743, -14.6562, -15.9250],\n",
       "          [-15.4070, -16.2813, -16.5155,  ...,   1.1253, -15.1569, -15.0623],\n",
       "          [-15.1844, -18.6576, -18.7607,  ...,  -2.3229, -14.5841, -14.7937],\n",
       "          ...,\n",
       "          [-15.1265, -17.4600, -17.5206,  ...,  -1.6757, -15.3918, -15.8286],\n",
       "          [-15.6432, -17.2286, -17.2296,  ...,   3.5043, -15.3465, -15.2402],\n",
       "          [-14.1465, -14.7181, -14.6969,  ...,  10.8714, -12.1766, -11.8361]],\n",
       "\n",
       "         ...,\n",
       "\n",
       "         [[-12.9620, -24.4014, -24.4322,  ...,   4.6247, -15.7868, -17.2747],\n",
       "          [-13.5627, -15.0405, -14.9506,  ...,  13.6097, -11.6687, -11.1879],\n",
       "          [-15.7302, -18.8419, -18.8438,  ...,  -1.1517, -16.7856, -17.6136],\n",
       "          ...,\n",
       "          [-16.1715, -19.8210, -19.8809,  ...,  -3.2468, -16.2090, -16.4324],\n",
       "          [-15.5002, -17.0967, -17.1119,  ...,  -0.9816, -16.3404, -17.0543],\n",
       "          [-13.3953, -14.2002, -14.1184,  ...,  13.7123, -11.3434, -10.9989]],\n",
       "\n",
       "         [[-12.7810, -23.9783, -24.0979,  ...,   4.5258, -16.0092, -17.3254],\n",
       "          [-13.1824, -13.2740, -13.2050,  ...,  14.1883, -11.3085, -10.7183],\n",
       "          [-16.1901, -18.7687, -18.8668,  ...,  -1.5521, -15.6826, -15.6515],\n",
       "          ...,\n",
       "          [-16.2560, -19.8977, -19.9783,  ...,  -2.7712, -16.2171, -16.3239],\n",
       "          [-15.2757, -17.2616, -17.2581,  ...,  -0.5015, -16.2579, -16.8043],\n",
       "          [-13.2723, -13.9975, -14.0288,  ...,  14.4242, -11.2546, -10.6576]],\n",
       "\n",
       "         [[-12.8629, -24.6421, -24.7691,  ...,   4.4789, -15.6214, -17.0419],\n",
       "          [-13.6140, -14.9645, -14.9305,  ...,  13.4954, -11.4613, -10.9737],\n",
       "          [-15.7707, -18.9408, -19.0403,  ...,  -1.3997, -16.6714, -17.4727],\n",
       "          ...,\n",
       "          [-16.1445, -19.5197, -19.6733,  ...,  -2.9814, -16.4565, -16.6599],\n",
       "          [-16.5549, -17.5987, -17.6271,  ...,  -0.2603, -15.7337, -15.9532],\n",
       "          [-13.8911, -15.1568, -15.0941,  ...,  12.1593, -12.1729, -12.0315]]]],\n",
       "       grad_fn=<AddBackward0>)"
      ]
     },
     "execution_count": 23,
     "metadata": {},
     "output_type": "execute_result"
    }
   ],
   "source": [
    "emb"
   ]
  }
 ],
 "metadata": {
  "kernelspec": {
   "display_name": "pytorch",
   "language": "python",
   "name": "pytorch"
  },
  "language_info": {
   "codemirror_mode": {
    "name": "ipython",
    "version": 3
   },
   "file_extension": ".py",
   "mimetype": "text/x-python",
   "name": "python",
   "nbconvert_exporter": "python",
   "pygments_lexer": "ipython3",
   "version": "3.9.19"
  }
 },
 "nbformat": 4,
 "nbformat_minor": 5
}
