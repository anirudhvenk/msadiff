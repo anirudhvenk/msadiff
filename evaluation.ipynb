{
 "cells": [
  {
   "cell_type": "code",
   "execution_count": 1,
   "id": "621600d0-9442-4485-80eb-0ab9f7625779",
   "metadata": {},
   "outputs": [
    {
     "name": "stderr",
     "output_type": "stream",
     "text": [
      "/home/av47/miniconda3/envs/pytorch/lib/python3.9/site-packages/tqdm/auto.py:21: TqdmWarning: IProgress not found. Please update jupyter and ipywidgets. See https://ipywidgets.readthedocs.io/en/stable/user_install.html\n",
      "  from .autonotebook import tqdm as notebook_tqdm\n"
     ]
    }
   ],
   "source": [
    "import torch\n",
    "import torch.nn.functional as F\n",
    "import esm\n",
    "\n",
    "from model import MSAVAE\n",
    "from config import create_config\n",
    "from collections import OrderedDict\n",
    "from torch.nn.parallel import DistributedDataParallel as DDP\n",
    "from data import read_msa, greedy_select, pad_msa_sequence"
   ]
  },
  {
   "cell_type": "code",
   "execution_count": 2,
   "id": "8aecb87d-4f0b-4c5a-b196-915ca6afcf73",
   "metadata": {},
   "outputs": [
    {
     "name": "stderr",
     "output_type": "stream",
     "text": [
      "/tmp/ipykernel_656970/1938451015.py:1: FutureWarning: You are using `torch.load` with `weights_only=False` (the current default value), which uses the default pickle module implicitly. It is possible to construct malicious pickle data which will execute arbitrary code during unpickling (See https://github.com/pytorch/pytorch/blob/main/SECURITY.md#untrusted-models for more details). In a future release, the default value for `weights_only` will be flipped to `True`. This limits the functions that could be executed during unpickling. Arbitrary objects will no longer be allowed to be loaded via this mode unless they are explicitly allowlisted by the user via `torch.serialization.add_safe_globals`. We recommend you start setting `weights_only=True` for any use case where you don't have full control of the loaded file. Please open an issue on GitHub for any issues related to this experimental feature.\n",
      "  ckpt = torch.load(\"weights/model_22.pth\")\n"
     ]
    }
   ],
   "source": [
    "ckpt = torch.load(\"weights/model_22.pth\")\n",
    "new_state_dict = OrderedDict()\n",
    "for k, v in ckpt[\"model\"].items():\n",
    "    name = k[7:]\n",
    "    new_state_dict[name] = v"
   ]
  },
  {
   "cell_type": "code",
   "execution_count": 3,
   "id": "fbc8acd0-9d21-45e1-9f67-c922fd241877",
   "metadata": {},
   "outputs": [
    {
     "data": {
      "text/plain": [
       "<All keys matched successfully>"
      ]
     },
     "execution_count": 3,
     "metadata": {},
     "output_type": "execute_result"
    }
   ],
   "source": [
    "config = create_config()\n",
    "model = MSAVAE(config).to(\"cuda:1\")\n",
    "model.load_state_dict(new_state_dict)"
   ]
  },
  {
   "cell_type": "code",
   "execution_count": 4,
   "id": "b1bc9174-50ce-42a3-8db6-4b50a8b9f500",
   "metadata": {},
   "outputs": [],
   "source": [
    "raw_msa = read_msa(\"databases/openfold/scratch/alignments_2/1077246/uniclust30.a3m\")\n",
    "# raw_msa = read_msa(\"databases/data/a3m/5dik_1_A.a3m\")\n",
    "# raw_msa = read_msa(\"databases/openfold/scratch/alignments_1/105059/uniclust30.a3m\")\n",
    "msa = [raw_msa[2:]]\n",
    "seq = [raw_msa[0]]\n",
    "single_seq_embeddings, pairwise_seq_embeddings, msa_tokens, mask = pad_msa_sequence(config, seq, msa)\n",
    "_, msa_alphabet = esm.pretrained.esm_msa1b_t12_100M_UR50S()"
   ]
  },
  {
   "cell_type": "code",
   "execution_count": 11,
   "id": "6f8adeca-6ffc-49bd-b769-c8af577c03e4",
   "metadata": {},
   "outputs": [
    {
     "data": {
      "text/plain": [
       "True"
      ]
     },
     "execution_count": 11,
     "metadata": {},
     "output_type": "execute_result"
    }
   ],
   "source": [
    "raw_msa[1][1] == raw_msa[0][1]"
   ]
  },
  {
   "cell_type": "code",
   "execution_count": 7,
   "id": "6844168b-69aa-488a-8f8d-ef3860f5cdfc",
   "metadata": {},
   "outputs": [
    {
     "data": {
      "text/plain": [
       "('tr|A0A150IYD1|A0A150IYD1_9EURY_consensus',\n",
       " 'MVDRLEEKGIFLTYLSNYAIRSALSCYLNIGKVNLPLKKVEGTIASTSKEELPIDPYEERIIALTELGIPYRKTKSPEEILLKRLQERVFMKNRFLLPSSKRSIVNFEDAFLGNDNLLRKRLEEFGLTKESAEYIICPQNEKCLCKKCDKRYDTSSERIREMRRRIYEIKNFNHEVCPYTH')"
      ]
     },
     "execution_count": 7,
     "metadata": {},
     "output_type": "execute_result"
    }
   ],
   "source": [
    "raw_msa[0]"
   ]
  },
  {
   "cell_type": "code",
   "execution_count": 6,
   "id": "df277e8b-8d64-454b-9117-12e15925e05e",
   "metadata": {},
   "outputs": [],
   "source": [
    "with torch.no_grad():\n",
    "    pred_msa, perm, mu, logvar = model(\n",
    "        single_seq_embeddings.to(\"cuda:1\"),\n",
    "        pairwise_seq_embeddings.to(\"cuda:1\"), \n",
    "        msa_tokens.unsqueeze(-1).float().to(\"cuda:1\"), \n",
    "        mask.to(\"cuda:1\")\n",
    "    )\n",
    "\n",
    "mask_expanded = mask.unsqueeze(1)\n",
    "mask_expanded = mask_expanded.expand(-1, config.data.msa_depth, -1).to(\"cuda:1\")\n",
    "pred_msa = pred_msa[mask_expanded]\n",
    "msa_tokens = msa_tokens.to(\"cuda:1\")\n",
    "size = msa_tokens[mask_expanded].shape[-1]\n",
    "msa_tokens = msa_tokens[mask_expanded].view(1, 32, size//32)"
   ]
  },
  {
   "cell_type": "code",
   "execution_count": 7,
   "id": "fc94cbec-f1ef-48eb-a12d-49d5e5ebb2ea",
   "metadata": {},
   "outputs": [],
   "source": [
    "probs = F.softmax(pred_msa, dim=-1)\n",
    "sampled_indices = torch.multinomial(probs, num_samples=1).view(1, 32, size//32)\n",
    "\n",
    "def indices_to_tokens(indices, alphabet):\n",
    "    return [''.join([alphabet.get_tok(idx.item()) for idx in sequence]) for sequence in indices]\n",
    "\n",
    "sampled_tokens = indices_to_tokens(sampled_indices[0], msa_alphabet)\n",
    "true_tokens = indices_to_tokens(msa_tokens[0], msa_alphabet)"
   ]
  },
  {
   "cell_type": "code",
   "execution_count": 8,
   "id": "38f2e843-ab98-4f25-ad4c-bf0236964851",
   "metadata": {
    "scrolled": true
   },
   "outputs": [
    {
     "name": "stdout",
     "output_type": "stream",
     "text": [
      "-KNLLKNDGVILTYTSAAPVRSAVVNGLHVGEGPSFGRS-GGTVASLNPEDNPLSTDDERMIALSDAGIPFKDPGSSQDILKRREEERKISRGKIKFSSTVKTPIYLNEKL--EEGRVLNNLKKLGLKSPEARYVVCPQYKECICGGGCENFNNSRERIYEMSHRLRSIVTIND-------\n",
      "-KRILKSKGLILTYTSSIPVKAGLIAGFHVGDGPVFGRISGGTIASPSYKDKDLSYDEERLIALSDLAIPFRDLSSCETIVENRKQERQIARGNTKISSAVKTPIYLGQDIVD--ERVLRNLTDFNTKSKIVLDLISSQNS-N---DKLNFKNSSRARILDIKQRWNSLLDI---------\n",
      "-KQIIKKDGLLLTYTSAAPVRSALIKGFYVGEVPPFGRKKGGTVASLSPDSQDLPGEDELMIALSDAGIPYRDQENACLIKDRRIKERKARRGKDKFASTVKTPLYILNEP--EDHRVLRNLQSMGFNLDKSRFIVCPQFNDCICGRGCKIFKNSKERIEEMENRLQSVKN----------\n",
      "-RDLLTEDGVLLTYTSSAPLRYALIDGLQVGEGPSMGRS-GGTIASPDIKPKPLNNNDERMIALSDAGIPFKDPSLPENIKQQRQKERIKARGNYKIASTVKTPVYLARDIDD--EKALKHLKDVRLDCEKSRYLVCPQFSECICTCKQERLSTSRARIKEMEKRLTNITNSK--------\n",
      "-KPLLKPDGMISSFSKSHTMRYSLVKGYHIGEGPEFGRS-GGTIASTALEEKPISIDDERVVALSDAGVPLRDLDSSLEILERRDEERENVRGKFKFPSTVRCPVFLGKDL--KESRVLNGLKTIGLHSQKSMYLICPQYQDCVCGNSCKPIDNSRDRIIEMEKRLNILAVNQL-------\n",
      "-STLLKEDGVILTYTSAAPVRYALLNGLEIGEGPALGRS-GGTMASPSLHTKPLGSVDERMIALSDAGIPYRDPLSANEIIENRHLERITARGNSKIASTVKTPVYLANDLDMDHEKVLKHLESFSLNSLKSRFLVCPQFSNCICCCGQEGPSTSRARIKEMEKRLKIVANGNF-------\n",
      "-KEFLTPTALILTYTAASPVRSAIVGGLYIGEGPQVKRS-GGTIASRFPDDTPLSFSDEKVISLSDVGVPFMDSDDFYTIIDRRQNIRDRIRGVTVFPSSNKLPRYLGLDPEIEDKKLNNYVKEMGINDPRILKILQ-----------VDQNLPSRSQIIMLEENLHNVLDEMK-------\n",
      "-KRIIKNDGVLATYTSAAPVRSALVEGFHIGEGPIFGRKSGGTIASLSLSKKDISLADERMIALSDVGIPFRDPLSDVEIFKNRSTARKNARGTYKFSSAAKAPIFLGKEI--EMDRVIRNINQLHLKSKNALYLVCCQNESCYCGCNINRISNSRDRIKKMSERLSNLRKTQE-------\n",
      "-RRVIKNDGIVCTYTSSAPVRAAFIENFHIGQGPIFGRKQGGTLASPNPLKKSLPKNDEIRIALSDVGIPFRDPNSSEYILESRTEERHEARHNTKISSAVKTPIFLTQEMED--EKVERNLAKMNTTSKEAFYILEPENNYL---EAQEIDNNSRSRILQMIDNLKEVKENK--------\n",
      "-ARVIKPDGVLATYTSAAPLRSALIDGFHIGAGPVFGRKSAGTLASMDPSKEPLDWRDERMVALSDAGVPYRDPSDGETIIERRRLERMVIRGVTRISSAVKTPIYLGGSVE--GDRVRRNLERMGLKGGEALYIICPQLDECVCGCGEERVTTSRERILSMRRRLLEVASFRG-------\n",
      "-KEFLTTTSLILTYTAASAVRSAMIKGLHVGEGPQFHRS-GGTIASKCFDDKPLAFGDEKVIALSDVGVPYMDPDDYNTIIARRQSIRSKIRGVSVFPSSSKLPRYLGIDPMIEDETLNGYVQNMGLNDPRILSMLD-----------IDRNAPSKNQVLELEQNMEYILNSI--------\n",
      "-AGVLKKRGVLATYTSAAPMRAALIEGFHVGQGPVFGRKSGGTLASLDPRRKPLDWRDERMIALSDAGIPYRDPADALEIMGRRRVERMSARGVTRISSAVKTPLYLGSEQV--EGRVRRNLSRIGPSGPEALYIICPQMDECICGCGEDRPASSRDRVISMRRRLMDLVNLRH-------\n",
      "-VDRLEEKGIFLTYLSNYAIRSALSCFLNIGKVELPLKKVEGTIASRALEEKSLDSYEERIISLTELGIPYRRADNPEEIILNRLKERLEMKNKYLLPSSKRNIVNFEDAFTGSDISLKNRLEEFGLTKELAEYIICPQNEKCSCGKCNKRYNSTSERILEMRKRIYEIKGFNH-------\n",
      "-LDRLDEKGIFLTYLSNYAIRSALSCYSNIGKVNLPLNKVEGTIATLIQEESSIGQYEERIIALTELGIPYRNASTPKEILDKRNEERKFMRNRYLLPSSKRNIVDFESAFNGEDTNLRNRLEEFGLTKEYSEYILCPQKEQCICGKCTKRFKTSSERIIEMRKRLFELKGFNH-------\n",
      "-ADRLEKNGVLLTYLSNYAIRSAISCYLNIGKVELPLKKIEGTIASKSTEGLQLDQYEERVIALTELGIPYRKAKTPEDILQNRLNERKSMKNKFLLPSSKRDIVNFEDAFFGENTSLRKRLEDFGLSKESVEYITCPQKKECICKRCEKRYVSSSERISEMRKRLFEIKGFNN-------\n",
      "---------------------------FTWGEGPSFGGK-KGTIASSAAEDKQLSSLDERMIALTDTGAPFKDLDSGSEINKKREKEREYVRNRYKFASTVRAPVYLCRDL--EDSRVLKNLHYMGLNSSKSRFIVCPQFDRCICGRNCRTFDNSRDRILEMSKRLSIALEGNQ-------\n",
      "LKRVIKDNGIIATYTLAAGVRFAFVEGFYIGDGPVFGRKSGGTIASLDINSKNIPINDERTIALSDAGIPFRDPFNTEKILENRSEERSLARHNYKISSAVQTPIFFGEDVS--DEKILRNFNKVNLKSKEALYIIETQKYHDK---KPTINFNSKDRIIEMNKRLLKVIN----------\n",
      "FRRVIKDNGIVCTYTSSAPVRMAFIEDFYVSLGPIFGRFQGGTLASPSPKTKSLPKNDEIKMALSDVGIPFRDPLSSKEILDNRTEERHNARHNTKISSAVKTPIFLAQEMD--DEPVERNLRKMNVLSEEAFYLVGPEENYSE---DYAEDNNSRTRVIEMAKRLDEIKN----------\n",
      "FRRVIKDNGIVATYTSSAPVRMGFIEDFYVSLGPIFGRFQGGTLASPNPKRKSLARNDEIKMALSDVGIPFRDPLSSAEILDNRREERHLARHNTKISSAVKTPIFLAQDMD--DKPVERNLSKMNVLSKEAFYIVEPENDYME---EYLEDNNSRTRILKMMKRLDDVKN----------\n",
      "LRKLLKPDGILVASTTLHVSQVGLNLGFDAVVIKDATSDIQGIMATLSS-----------SS-YLHEKEPYRDIYNDKQIETLHQKSSN--------------------------------------------------------------------------------------------\n",
      "LKSALKSDGVMVCSQTNHVVKVALAKNFIYEEFNLEKTDIKVLVIKHGQ----------NSS----DEVCYEDRYRDKQIVTNKEQQSL--------------------------------------------------------------------------------------------\n",
      "LKVVLNKDAIIICSQNNSIIKAGFAKGFIYEDFNINRTDIKALIIKQGS----------NTT----KNRYYEDPYREKQIVTNFEKNI---------------------------------------------------------------------------------------------\n",
      "IGSIXKDKTFLTTYSXAXQIRRGMXEGFFIGDXXCDNLPKTGTIASXTPFXGSXDKXXXDEXFKEILSVPYRDELXRDEISENRIXERXQXKIQNKS------------------------------------------------------------------------------------\n",
      "VKDLMKEEAVLSTYSASLAVRKGLLEGFKIGLVEPVGRKSYSTVATIKGDIPPLTEKEKTRIEKSPYAVPYRDNNLPREVIKENWKSIVNQKLRKS-------------------------------------------------------------------------------------\n",
      "LFNITSNKSIITTYAKARNILESANNGFSVIKHKLSVFYKG--------------------------------------------------------------------------------------------------------------------------------------------\n",
      "LYALSSQSVVITTYSHNSCMLYSAFLGFYAYKVVQ-KNVRDSVILTK--------------------------------------------------------------------------------------------------------------------------------------\n",
      "LFLLTQKDCILTTYSQNSAMLYSAFLGFKPFKLTQ-KYTRDSILFTK--------------------------------------------------------------------------------------------------------------------------------------\n",
      "------------------------------------------TIASFDGQLPPLSQM-EQEHLQTRAAIPYRDPDTAPTILERHQQEQQH-------------------------------------------------------------------------------------------\n",
      "-FTHCAPSAELYTYSAATSVRVTLLSGWIVAEGAGSGPKSTTTAAFNRADLPLLGAEWLARWHRSSSKFPATLA-----------------------------------------------------------------------------------------------------------\n",
      "IINSMNKSSVFVTFSSMNILFNLLKDKMDVEKIRGPHKKKKMIRAVK--------------------------------------------------------------------------------------------------------------------------------------\n",
      "LKQNFNDGAVLVTYCARGQFKRDLATEMSVETLPGPPGKKEMVRGIF--------------------------------------------------------------------------------------------------------------------------------------\n",
      "LRNHAQPGATISSYSVAGIVKQGLRAGFQVEKRPGYGQKRELLYAADPRPWQGQR------------------------------------------------------------------------------------------------------------------------------\n"
     ]
    }
   ],
   "source": [
    "for token in true_tokens:\n",
    "    print(token)"
   ]
  },
  {
   "cell_type": "code",
   "execution_count": 10,
   "id": "754e9fbf-3981-45bd-9e2d-5c976e24b3e1",
   "metadata": {
    "scrolled": true
   },
   "outputs": [
    {
     "name": "stdout",
     "output_type": "stream",
     "text": [
      "FGTLIKENGVLATYTSSIAVRSAFIEGYHIGEVPEFGRKVGGTLASLNFMKKPIGSADE-HIALSNEGVPYRDPGSAREIIDRRCEERINSRGRTKFSSTVKTPIYLGISVV---D-VERNLKTFGLNGEEAMYIVKPQYQN-YCWWQFEKDASSRTR-LEM-RRLKYIATIRM-------\n",
      "-ADVLQEDGIICTYTAACVMRSALIENLYIGEGNVLGRS-GGTIASCDPERE-LSHADERVIALSDVEIPYRDQ-DMMEILASRLN-RVSMR-KSKFPSTVK-PLYLGNDYV--DGRVERNLESLGPNK-RSLYILGCQKEECVC---EERNNSTRTRIYEMRWRLLEVLNFNE-------\n",
      "-RRFLKPNGIILTSTSNAPIRSSLSEGLNVGDGRDFGSKSGGTVASLDP-DPNIDSFEERIIAL-DSGIPFRDPLSAQEILKRRQKERHNMRGVTLLASTVRTPVYLG-DLV--Y-SVLGRVESVGTNSLEILYMICPQENDEECKWQEKENNPTRERVLE-MKRLMFLVNL-E-------\n",
      "-FDILNDDGILLTYLAASNIREAA-CDFQIGKGNKFKRKVEGTIASLDIKKKSLDIND-IKCALSMVGRPYRDPD-GMTIVLNRTKET-AARLKK-ISS--KFPVYLGLD-E-D-DRLLKG---F-LQDEKSL--IE-Q--Y---G---DI-D-S-DRILEMK-RMSILK-SR--------\n",
      "FRDLLKEDGILLTYLSACAVKSGLREFFHIGKGPEFGRNSGVTIASLSISDKPLSKFDERIIALSDAGIPFKRLASD--IIKRRREERMQIRHKS--NSAVKTPIFFGKDNDG-GKKVIKNL-RVSLTKKRAFYIIEPQFSQCYCGQWEKGPDNSRERISIMTKRLWIIKTIN--------\n",
      "-KKLLKDDGVIATYSSAAPVRSALSNGSEVGEGPPFGRS-GGTIASPNPSRKPL-WVDERHMALSDAGIPYRDPSDAEDIIKNRILERWVARGVTLIASAVKTPLFL-GEIV--DDKVLNHLQRLGLSGEEALYIVCPQWSSCVCGEGQKRIINSRDRVISMMRRLSILKVGRH-------\n",
      "VVTFSENDGVITSYLSAYAIKYAISSGFFVVDGPGPGDDVGGTMASKNIEKNNLGSGDERTCELSDFGVPYRLAE-SE-IKENRLNTIKK-K--TKL-STVKTPVD-GGAPD-EDESVER-L-DYGVC-E-S-FIICT-NK-CIC-KWDKRNDNS-AR-LNME-R-WF-RN-NY-------\n",
      "-KNVIKPGGVVATYTSAAPVRSALIEGLHIGEGESFGRKSGGTLASINTSTKSLA-DDERKSALSDA-IPYRDALDPEQIL-NRHEERFAARGNSLF-SSVK-P-YLEKEIV-EDEKVLFNLSD-GLSK-LARYIICPQFSNCEC-G-EQDVNTSRDRIMSMRERLHEV-GSN--------\n",
      "-ARLLQDDGVLLTYTSAAPIKSALV-NLYVGDGPIPGRY-EGTFASKCASPKSLPRNEEIVMALT-FG-PF-LNFSAREILENR-EERKQSRGNKKLASTVKTPI--G--FV--EESILRH-EE-NFPNKKSLYL-C--N-----GKST-RNA-SRDQILEMEKRLSSLKN-QH-------\n",
      "FRDILKKDGVILTYTSAYPIRMALVGGLHIGQGEDFGRKIGGTIASCSGSKKPLDHRDERNVALSDAGIPYRDQAD-STIMKRRQEERIVARWVTKISSAVKLP-FLANEQVHEEGRARRNLERINLK-KKAEYLICPQLSSCICGKGEDRPASSRERIISM-RRLKIVANIRH-------\n",
      "LKRCCKNKS-LCTFQASRAMLRAAIEGFYAGDGPLYGGDKEGTIASDAIKTKSLDI-D--EIAK-EIGVPF--P-TSAYILKRR-YAIQQSRWVD-IP-A-RTPVQLARAM-----N-LKRLK--RLK-Q--EY-VC-QN-NCI--E-KEFPNNS--RIL-M-KT-NSVV-FQ--------\n",
      "-LD-LKNEATIC-YLSAHVVF-SIK-GFQVGLLSKRPTS-GGVIG-PGFN----QLE--IT-E-SD-G-PFR--FLD-Q--QRY-K---KA-------S----DI---Q--T----R---NV-D--LT--K---L-GPKKE---C-E-Y--D--------E-------L-G----------\n",
      "LVTM-TP--ILLTYTKSIAIRSGLIDN-NMYDL-AFGRM-TMT-ASSAK-KP---RF---MVALEEQ-IPFR--F-YA-I--N-Q--SKRRR------S----P-FY-QD---EH-RLR-Y-K---L----ARYLV----D---------T-NNS---V--------I-K--F--------\n",
      "FREHITKDIVIATYSAAGVVRYALLKEFHVAKGKVYTRISKGTIATPSPEKKSLRIEDRISIAKTDVGIP-RDLFSDQEILTRRSSSRHNA-HKTKISSA-RTPVY-GRDQSI--K-A-RFL-IFNV-KSESRDIV--QNKEXIC--A-KPIK-S-ARIIYIAN-L-SAL-GK--------\n",
      "-ANRIKKDAVILTYTSSYALRAAYLSNFHIGEGNGYGRK-NGTLASLDLDTKPLPANDETMI-LSDAGIPFEDPLNRPTILKRREKERHNARGNYKIASAVKT-IFLEQSY--EDGRLLKNVR-INLNEEKALFMICPQKDYC-C-RKQKGFSSSKARIIKMRKRLNELKTIQ--------\n",
      "-RNML-ENGVLI-Y-CFHASNRGLQLGFDVELVVDVTTSRDGTIQVPRA--GP-PLS------KTEIEVPYRLLLS---IFD-CQE-S-C--HR---SSS---PV------R-------K---S----S-----I---E-EKY-C--Q---D---------M----HI--G-K--------\n",
      "-KEVT-D-SV-STYSCAAIIRS-L-L-FDIGES-G--FKRGGVRASRSL-M-SLD-N--TK-AL--IEVPF-D-S-SP--V--RQEERE-RRHTD--S---KLI-Y-E-Q-----E-VL----E-N-TK---YFL--P--D---------LYN-SRA-I-E---------GE-Q-------\n",
      "-ARVFDEDGVLTTYSSAATIRSALFEGSHMGLGPVFGRNTETTIASIDGPSR-IPWDDERVIA-TDSAIPFRDPSSSATIKQQQQK-RKE-RG-SKISS-VKT--FLTEEMV--DSNVRRNLRNM---KELSRYLV-PQHQQCS--CEQNRF-SSRERI-ELEKRLYKIAT-N--------\n",
      "-KDYLKEGGIFLTYSSAFAVRSGLIKGLYVGEVPSYLRKIGLTIASPSFDRKSI-LNDELEWA-SDSGIPYKDIENDLEIVENRIKERKKA-HVFKLSSTVKTIIYLALDLM-EE-RV-NNFRDYHLNSPRAF-I-CXQNDDCE---QEKKVKSSRERIKEMEDRLTQVLNG-K-------\n",
      "VKSWWNPDGELTAYSAQSIMKSAAALGFKVFKIRLFTRKQESTLVNYRP-SK-LDF-D-RTHMKSHAGIHY-DPD--LK-LEKRE-SRH-AR-----ASAKR---G-G-EL-----K------F-N--K-KAEYL-E---SE----R-----D-SR-R-L--E-NLSSII-----------\n",
      "I--RLEPDCLLLTS-SSCPLQ-LLAL-YKVAEVPAPHGIRKSTAASP-PFD-PL--KRERESA---A-RM-RDPDNPED--TRQLQER-Q--NN--F--A---PVYL------EE-R--N-L-----K-P-AG-----EN------G-------S-T------KR-EEA--A---------\n",
      "-KDVLQKSAFIVT-Q-SR-MRYALALGFNVGKGQIFVTKRKVTIFTMR--LK------E-TS---R-A-PMKLR-C-KTILEXRE-E-HEARLK-SFAS---TP-Y----Y--E----L-N-Q-Y-----L-L------K--------N-----S---II--E---N-----NE-------\n",
      "-IDHSQNDGVYVTYTSACVIRKILA-EYSVGLGPK-RRKQFGTLGT-KK-DKQ--I-D-RTILLT--GV---DS--DNTI-TNHS-ER-MV----KS--T---PV---Q--N--DE-LEKN-KE--T----A-F-VXP-----------K-DS-SRTR-L---------R--Q-------A\n",
      "IKRLCDSSGVIVTYLSNQAVKRGLIEGFNIGKGPIPN-KSEMLHASPDGKT-SLP---EIMIALEDKGVPYRD--NSVEIFDLRMK--QM-RG--VF-SS-----N--D-P---DE-VL-NVE-MRT--D-IR---C-QN---E---ELKI--PSR-RIIE---RL--V---NK-------\n",
      "-RVLLS--GV-L-FA-ACPVRFAL-C-YY-GDVTK-GK--KGT-ISPFPL-K-LKY--E-----S--G-PYE--LR---ILE-R--E--KVRW--KIS---K------QA-----ER--K--EX-GL--D--R-L-C------E-----------------MKK----L------------\n",
      "-KERLTNSCIVISSTYAAPIRFAF--GFIVVKRPV-KTK-TMTFAK-NTKDPP-SG--ERKS-QLEKGI-FEDPYDF---L-ERIYE--E-T-N-K---AKK-----GND-D----RVE--L-KMHT----A----D-E-------RKV--PNPS--Q-K-ME--LKE-------------\n",
      "-K-T-N--GIITTH-QSGFVRRSLIQGC---DVPIEHNVRGGVRGS-DGQ-KS--I---R-I-LS-A-IPYRD-YSD-DILE-R--ER-Y----T-F-------I--E-APT----------------------II-P------------R--------L-MAK------EF---------\n",
      "-RELTENSAIIVTSVSR-VVRRA-AEKWIVE-LKL-R-NSTGTIAS---D---------RRM--S----PF--P--D--IL--R--I---A-----I------I--L------------------G-L-------L--------C-R---T--------L---------------------\n",
      "FRNALTEDCLIVTYQSASYLKVG-SQGLNAGEGPANGRK-GITAASRDFKEKLLDEDDERVIARTDAKIPYEDLLNAKEIK-NRQNQRIRIRG-T--PSS---PIYLG-D---EDESV-KNIH-M-V-K-RAL-LVE-----S----AH-I-DN-R---LEM-K----LLGSRQ-------\n",
      "LY-FH--DGIITTY-QLA--RNAFSK-FIISEVPISGRK-GMILISK-IE-KP------RVIART-S-----D-SN--E-KTR-QEAR-Y---N-LL----R-P--LEQDF----E---KNV---NLN--E---I-C-Q---II-----ETV--S--RV----K--YSI------------\n",
      "-KVLLK--S-FT--SKSCYIREAYVL-CYVEEGPIPRRKSK-V-A---DSLP--PNH---EHAL-RAK---RD-STDKNI-KNRQ-IRSN--C--K-P-S--T---LGI---D---R-L-Y-K-F----P--R----------I---AKE---N--ERI---------L-N-R--------\n",
      "-FNNLKNDGTMLTYSKNAPVLYSY-KGWKIVELPVPNYK-KGVRAAYGPPKT-L---E-A-IAKSELSVPYKRPE-TE--LD-R-SI--N---N-K-ASAKK-----GKA-----E-L---VHKM---S-EALFIVE--F-------AQ-NNLP------R-I-RM-EA------------\n"
     ]
    }
   ],
   "source": [
    "for token in sampled_tokens:\n",
    "    print(token)"
   ]
  }
 ],
 "metadata": {
  "kernelspec": {
   "display_name": "pytorch",
   "language": "python",
   "name": "pytorch"
  },
  "language_info": {
   "codemirror_mode": {
    "name": "ipython",
    "version": 3
   },
   "file_extension": ".py",
   "mimetype": "text/x-python",
   "name": "python",
   "nbconvert_exporter": "python",
   "pygments_lexer": "ipython3",
   "version": "3.9.19"
  }
 },
 "nbformat": 4,
 "nbformat_minor": 5
}
